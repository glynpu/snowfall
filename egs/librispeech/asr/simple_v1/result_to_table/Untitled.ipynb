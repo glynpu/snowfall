{
 "cells": [
  {
   "cell_type": "code",
   "execution_count": 1,
   "id": "applied-pension",
   "metadata": {},
   "outputs": [],
   "source": [
    "import re\n",
    "\n",
    "def extract_scales(key: str):\n",
    "    matchobj = re.match(r'lm_scale_(.*)_decoder_scale_(.*)', key)\n",
    "    lm_scale = matchobj.group(1)\n",
    "    decoder_scale = matchobj.group(2)\n",
    "    return lm_scale, decoder_scale\n",
    "\n",
    "def extract_tile_and_column(sorted_keys):\n",
    "    prev_lm_scale, _ = extract_scales(sorted_keys[0])\n",
    "    title = []\n",
    "    left_column = []\n",
    "    left_column.append(prev_lm_scale)\n",
    "    title_finished = False\n",
    "    for key in sorted_keys:\n",
    "        lm_scale, decoder_scale = extract_scales(key)\n",
    "\n",
    "        if lm_scale != prev_lm_scale:\n",
    "            prev_lm_scale = lm_scale\n",
    "            title_finished = True\n",
    "            left_column.append(lm_scale)\n",
    "        if not title_finished:\n",
    "            title.append(decoder_scale)\n",
    "    return title, left_column\n",
    " \n",
    "def extract_scores_table(sorted_keys, scores):\n",
    "    prev_lm_scale, _ = extract_scales(sorted_keys[0])\n",
    "    scores_table =[]\n",
    "    scores_row = []\n",
    "    for key in sorted_keys:\n",
    "        lm_scale, decoder_scale = extract_scales(key)\n",
    "        if lm_scale != prev_lm_scale:\n",
    "            prev_lm_scale = lm_scale\n",
    "            scores_table.append(scores_row)\n",
    "            scores_row = []\n",
    "        scores_row.append(scores[key][2])\n",
    "\n",
    "    scores_table.append(scores_row)\n",
    "    return scores_table\n",
    "\n"
   ]
  },
  {
   "cell_type": "code",
   "execution_count": 2,
   "id": "liable-legislation",
   "metadata": {},
   "outputs": [
    {
     "name": "stdout",
     "output_type": "stream",
     "text": [
      "['']\n"
     ]
    }
   ],
   "source": [
    "scores = dict()\n",
    "# sf = \"score1.txt\"\n",
    "# sf = \"score2.txt\"\n",
    "# sf = \"score3.txt\"\n",
    "# sf = \"score4.txt\"\n",
    "# sf = \"score6.txt\"\n",
    "# sf = \"score7.txt\"\n",
    "# sf = \"score8.txt\"\n",
    "sf = \"batch_score9.txt\"\n",
    "\n",
    "\n",
    "\n",
    "\n",
    "\n",
    "\n",
    "with open(sf) as f:\n",
    "    for line in f:\n",
    "        line=line.strip()\n",
    "        line = re.split(' |\\t', line)\n",
    "        if len(line)!=2:\n",
    "            print(line)\n",
    "        else:\n",
    "            matchobj = re.match(r'lm_scale_(.*)_decoder_scale_(.*)', line[0])\n",
    "            lm_scale = matchobj.group(1)\n",
    "            decoder_scale = matchobj.group(2)\n",
    "            scores[line[0]] = (float(lm_scale), float(decoder_scale), float(line[1]))\n",
    " \n",
    "sorted_keys = sorted(scores, key=lambda k:(scores[k][0], scores[k][1]))\n",
    "title, left_column = extract_tile_and_column(sorted_keys)\n",
    "scores_table = extract_scores_table(sorted_keys, scores)\n",
    "assert len(title) == len(scores_table[0])\n",
    "assert len(left_column) == len(scores_table)\n"
   ]
  },
  {
   "cell_type": "code",
   "execution_count": 3,
   "id": "intense-outline",
   "metadata": {},
   "outputs": [],
   "source": [
    "tilte, left_column = extract_tile_and_column(sorted_keys)\n"
   ]
  },
  {
   "cell_type": "code",
   "execution_count": 4,
   "id": "resistant-conducting",
   "metadata": {},
   "outputs": [
    {
     "data": {
      "text/plain": [
       "['0.1',\n",
       " '0.3',\n",
       " '0.5',\n",
       " '0.6',\n",
       " '0.7',\n",
       " '0.9',\n",
       " '1.0',\n",
       " '1.1',\n",
       " '1.2',\n",
       " '1.3',\n",
       " '1.5',\n",
       " '1.7',\n",
       " '1.9',\n",
       " '2.0']"
      ]
     },
     "execution_count": 4,
     "metadata": {},
     "output_type": "execute_result"
    }
   ],
   "source": [
    "title"
   ]
  },
  {
   "cell_type": "code",
   "execution_count": 5,
   "id": "great-designation",
   "metadata": {},
   "outputs": [
    {
     "name": "stdout",
     "output_type": "stream",
     "text": [
      "decoder_scale(right)lm_scale(below)|0.1|0.3|0.5|0.6|0.7|0.9|1.0|1.1|1.2|1.3|1.5|1.7|1.9|2.0\n",
      "--|--|--|--|--|--|--|--|--|--|--|--|--|--|--\n",
      "0.1|2.99|2.98|2.94|2.92|2.92|2.92|2.91|2.91|2.9|2.9|2.89|2.89|2.89|2.89\n",
      "0.3|2.9|2.9|2.9|2.9|2.9|2.89|2.88|2.87|2.88|2.88|2.86|2.86|2.86|2.86\n",
      "0.5|2.88|2.85|2.85|2.87|2.86|2.85|2.85|2.86|2.85|2.85|2.85|2.85|2.86|2.86\n",
      "0.6|2.86|2.83|2.82|2.82|2.84|2.84|2.84|2.84|2.85|2.85|2.85|2.85|2.86|2.86\n",
      "0.7|2.86|2.81|2.79|2.8|2.81|2.83|2.83|2.83|2.84|2.84|2.85|2.86|2.85|2.85\n",
      "0.9|2.98|2.84|2.79|2.76|2.77|2.78|2.78|2.8|2.81|2.82|2.82|2.82|2.83|2.84\n",
      "1.0|3.12|2.88|2.81|2.79|2.77|2.76|2.76|2.78|2.79|2.81|2.82|2.81|2.82|2.82\n",
      "1.1|3.31|3.0|2.83|2.81|2.79|2.76|2.75|2.75|2.75|2.77|2.8|2.8|2.81|2.81\n",
      "1.2|3.59|3.13|2.9|2.85|2.81|2.79|2.77|2.76|2.75|2.76|2.76|2.79|2.8|2.8\n",
      "1.3|3.87|3.3|3.01|2.93|2.87|2.79|2.78|2.79|2.77|2.76|2.76|2.77|2.78|2.79\n",
      "1.5|4.43|3.81|3.29|3.17|3.05|2.9|2.87|2.84|2.8|2.78|2.77|2.74|2.75|2.75\n",
      "1.7|4.86|4.28|3.79|3.56|3.32|3.07|3.0|2.95|2.89|2.87|2.82|2.79|2.78|2.77\n",
      "1.9|5.15|4.68|4.17|3.96|3.74|3.33|3.21|3.13|3.04|2.99|2.88|2.85|2.82|2.81\n",
      "2.0|5.22|4.83|4.37|4.13|3.92|3.55|3.34|3.24|3.14|3.07|2.95|2.87|2.84|2.82\n",
      "15\n",
      "15\n"
     ]
    }
   ],
   "source": [
    "def scores_to_markdown(title, left_column, scores_table):\n",
    "    len_title = len(title)\n",
    "    title = 'decoder_scale(right)lm_scale(below)|'+'|'.join(title)\n",
    "    \n",
    "    print(title)\n",
    "    second_line = '|'.join(['--' for i in range(len_title+1)])\n",
    "    print(second_line)\n",
    "    for line_idx in range(len(scores_table)):\n",
    "        cur_line = '|'.join([left_column[line_idx]] + [str(score) for score in scores_table[line_idx]])\n",
    "        print(cur_line)\n",
    "    print(len(title.split('|')))\n",
    "    print(len(second_line.split('|')))\n",
    "\n",
    "\n",
    "\n",
    "#     print('|'.join([left_column[0]] + [str(score) for score in scores_table[0]])\n",
    "#     cur_line = '|'.join(left_column[0]+scores_table[0])\n",
    "#     print(cur_line)\n",
    "\n",
    "scores_to_markdown(title, left_column, scores_table)"
   ]
  },
  {
   "cell_type": "code",
   "execution_count": 103,
   "id": "frank-portable",
   "metadata": {},
   "outputs": [
    {
     "ename": "AttributeError",
     "evalue": "'list' object has no attribute 'split'",
     "output_type": "error",
     "traceback": [
      "\u001b[0;31m---------------------------------------------------------------------------\u001b[0m",
      "\u001b[0;31mAttributeError\u001b[0m                            Traceback (most recent call last)",
      "\u001b[0;32m<ipython-input-103-ff62fce48ac2>\u001b[0m in \u001b[0;36m<module>\u001b[0;34m\u001b[0m\n\u001b[0;32m----> 1\u001b[0;31m \u001b[0mtitle\u001b[0m\u001b[0;34m.\u001b[0m\u001b[0msplit\u001b[0m\u001b[0;34m(\u001b[0m\u001b[0;34m'|'\u001b[0m\u001b[0;34m)\u001b[0m\u001b[0;34m\u001b[0m\u001b[0;34m\u001b[0m\u001b[0m\n\u001b[0m",
      "\u001b[0;31mAttributeError\u001b[0m: 'list' object has no attribute 'split'"
     ]
    }
   ],
   "source": []
  },
  {
   "cell_type": "code",
   "execution_count": 66,
   "id": "surgical-london",
   "metadata": {},
   "outputs": [],
   "source": [
    "     \n",
    "        \n",
    "        "
   ]
  },
  {
   "cell_type": "code",
   "execution_count": 74,
   "id": "intelligent-serial",
   "metadata": {},
   "outputs": [
    {
     "name": "stdout",
     "output_type": "stream",
     "text": [
      "['lm_scale_0.1_decoder_scale_0.01', 'lm_scale_0.1_decoder_scale_0.03', 'lm_scale_0.1_decoder_scale_0.05', 'lm_scale_0.1_decoder_scale_0.08', 'lm_scale_0.1_decoder_scale_0.09', 'lm_scale_0.1_decoder_scale_0.1', 'lm_scale_0.1_decoder_scale_0.3', 'lm_scale_0.1_decoder_scale_0.5', 'lm_scale_0.1_decoder_scale_0.7', 'lm_scale_0.1_decoder_scale_0.9', 'lm_scale_0.1_decoder_scale_1.0', 'lm_scale_0.1_decoder_scale_2.0', 'lm_scale_0.1_decoder_scale_4.0', 'lm_scale_0.1_decoder_scale_6.0', 'lm_scale_0.1_decoder_scale_8.0', 'lm_scale_0.1_decoder_scale_10.0', 'lm_scale_0.3_decoder_scale_0.01', 'lm_scale_0.3_decoder_scale_0.03', 'lm_scale_0.3_decoder_scale_0.05', 'lm_scale_0.3_decoder_scale_0.08', 'lm_scale_0.3_decoder_scale_0.09', 'lm_scale_0.3_decoder_scale_0.1', 'lm_scale_0.3_decoder_scale_0.3', 'lm_scale_0.3_decoder_scale_0.5', 'lm_scale_0.3_decoder_scale_0.7', 'lm_scale_0.3_decoder_scale_0.9', 'lm_scale_0.3_decoder_scale_1.0', 'lm_scale_0.3_decoder_scale_2.0', 'lm_scale_0.3_decoder_scale_4.0', 'lm_scale_0.3_decoder_scale_6.0', 'lm_scale_0.3_decoder_scale_8.0', 'lm_scale_0.3_decoder_scale_10.0', 'lm_scale_0.5_decoder_scale_0.01', 'lm_scale_0.5_decoder_scale_0.03', 'lm_scale_0.5_decoder_scale_0.05', 'lm_scale_0.5_decoder_scale_0.08', 'lm_scale_0.5_decoder_scale_0.09', 'lm_scale_0.5_decoder_scale_0.1', 'lm_scale_0.5_decoder_scale_0.3', 'lm_scale_0.5_decoder_scale_0.5', 'lm_scale_0.5_decoder_scale_0.7', 'lm_scale_0.5_decoder_scale_0.9', 'lm_scale_0.5_decoder_scale_1.0', 'lm_scale_0.5_decoder_scale_2.0', 'lm_scale_0.5_decoder_scale_4.0', 'lm_scale_0.5_decoder_scale_6.0', 'lm_scale_0.5_decoder_scale_8.0', 'lm_scale_0.5_decoder_scale_10.0', 'lm_scale_0.6_decoder_scale_0.01', 'lm_scale_0.6_decoder_scale_0.03', 'lm_scale_0.6_decoder_scale_0.05', 'lm_scale_0.6_decoder_scale_0.08', 'lm_scale_0.6_decoder_scale_0.09', 'lm_scale_0.6_decoder_scale_0.1', 'lm_scale_0.6_decoder_scale_0.3', 'lm_scale_0.6_decoder_scale_0.5', 'lm_scale_0.6_decoder_scale_0.7', 'lm_scale_0.6_decoder_scale_0.9', 'lm_scale_0.6_decoder_scale_1.0', 'lm_scale_0.6_decoder_scale_2.0', 'lm_scale_0.6_decoder_scale_4.0', 'lm_scale_0.6_decoder_scale_6.0', 'lm_scale_0.6_decoder_scale_8.0', 'lm_scale_0.6_decoder_scale_10.0', 'lm_scale_0.7_decoder_scale_0.01', 'lm_scale_0.7_decoder_scale_0.03', 'lm_scale_0.7_decoder_scale_0.05', 'lm_scale_0.7_decoder_scale_0.08', 'lm_scale_0.7_decoder_scale_0.09', 'lm_scale_0.7_decoder_scale_0.1', 'lm_scale_0.7_decoder_scale_0.3', 'lm_scale_0.7_decoder_scale_0.5', 'lm_scale_0.7_decoder_scale_0.7', 'lm_scale_0.7_decoder_scale_0.9', 'lm_scale_0.7_decoder_scale_1.0', 'lm_scale_0.7_decoder_scale_2.0', 'lm_scale_0.7_decoder_scale_4.0', 'lm_scale_0.7_decoder_scale_6.0', 'lm_scale_0.7_decoder_scale_8.0', 'lm_scale_0.7_decoder_scale_10.0', 'lm_scale_0.9_decoder_scale_0.01', 'lm_scale_0.9_decoder_scale_0.03', 'lm_scale_0.9_decoder_scale_0.05', 'lm_scale_0.9_decoder_scale_0.08', 'lm_scale_0.9_decoder_scale_0.09', 'lm_scale_0.9_decoder_scale_0.1', 'lm_scale_0.9_decoder_scale_0.3', 'lm_scale_0.9_decoder_scale_0.5', 'lm_scale_0.9_decoder_scale_0.7', 'lm_scale_0.9_decoder_scale_0.9', 'lm_scale_0.9_decoder_scale_1.0', 'lm_scale_0.9_decoder_scale_2.0', 'lm_scale_0.9_decoder_scale_4.0', 'lm_scale_0.9_decoder_scale_6.0', 'lm_scale_0.9_decoder_scale_8.0', 'lm_scale_0.9_decoder_scale_10.0', 'lm_scale_1.0_decoder_scale_0.01', 'lm_scale_1.0_decoder_scale_0.03', 'lm_scale_1.0_decoder_scale_0.05', 'lm_scale_1.0_decoder_scale_0.08', 'lm_scale_1.0_decoder_scale_0.09', 'lm_scale_1.0_decoder_scale_0.1', 'lm_scale_1.0_decoder_scale_0.3', 'lm_scale_1.0_decoder_scale_0.5', 'lm_scale_1.0_decoder_scale_0.7', 'lm_scale_1.0_decoder_scale_0.9', 'lm_scale_1.0_decoder_scale_1.0', 'lm_scale_1.0_decoder_scale_2.0', 'lm_scale_1.0_decoder_scale_4.0', 'lm_scale_1.0_decoder_scale_6.0', 'lm_scale_1.0_decoder_scale_8.0', 'lm_scale_1.0_decoder_scale_10.0', 'lm_scale_2.0_decoder_scale_0.01', 'lm_scale_2.0_decoder_scale_0.03', 'lm_scale_2.0_decoder_scale_0.05', 'lm_scale_2.0_decoder_scale_0.08', 'lm_scale_2.0_decoder_scale_0.09', 'lm_scale_2.0_decoder_scale_0.1', 'lm_scale_2.0_decoder_scale_0.3', 'lm_scale_2.0_decoder_scale_0.5', 'lm_scale_2.0_decoder_scale_0.7', 'lm_scale_2.0_decoder_scale_0.9', 'lm_scale_2.0_decoder_scale_1.0', 'lm_scale_2.0_decoder_scale_2.0', 'lm_scale_2.0_decoder_scale_4.0', 'lm_scale_2.0_decoder_scale_6.0', 'lm_scale_2.0_decoder_scale_8.0', 'lm_scale_2.0_decoder_scale_10.0', 'lm_scale_4.0_decoder_scale_0.01', 'lm_scale_4.0_decoder_scale_0.03', 'lm_scale_4.0_decoder_scale_0.05', 'lm_scale_4.0_decoder_scale_0.08', 'lm_scale_4.0_decoder_scale_0.09', 'lm_scale_4.0_decoder_scale_0.1', 'lm_scale_4.0_decoder_scale_0.3', 'lm_scale_4.0_decoder_scale_0.5', 'lm_scale_4.0_decoder_scale_0.7', 'lm_scale_4.0_decoder_scale_0.9', 'lm_scale_4.0_decoder_scale_1.0', 'lm_scale_4.0_decoder_scale_2.0', 'lm_scale_4.0_decoder_scale_4.0', 'lm_scale_4.0_decoder_scale_6.0', 'lm_scale_4.0_decoder_scale_8.0', 'lm_scale_4.0_decoder_scale_10.0', 'lm_scale_6.0_decoder_scale_0.01', 'lm_scale_6.0_decoder_scale_0.03', 'lm_scale_6.0_decoder_scale_0.05', 'lm_scale_6.0_decoder_scale_0.08', 'lm_scale_6.0_decoder_scale_0.09', 'lm_scale_6.0_decoder_scale_0.1', 'lm_scale_6.0_decoder_scale_0.3', 'lm_scale_6.0_decoder_scale_0.5', 'lm_scale_6.0_decoder_scale_0.7', 'lm_scale_6.0_decoder_scale_0.9', 'lm_scale_6.0_decoder_scale_1.0', 'lm_scale_6.0_decoder_scale_2.0', 'lm_scale_6.0_decoder_scale_4.0', 'lm_scale_6.0_decoder_scale_6.0', 'lm_scale_6.0_decoder_scale_8.0', 'lm_scale_6.0_decoder_scale_10.0', 'lm_scale_8.0_decoder_scale_0.01', 'lm_scale_8.0_decoder_scale_0.03', 'lm_scale_8.0_decoder_scale_0.05', 'lm_scale_8.0_decoder_scale_0.08', 'lm_scale_8.0_decoder_scale_0.09', 'lm_scale_8.0_decoder_scale_0.1', 'lm_scale_8.0_decoder_scale_0.3', 'lm_scale_8.0_decoder_scale_0.5', 'lm_scale_8.0_decoder_scale_0.7', 'lm_scale_8.0_decoder_scale_0.9', 'lm_scale_8.0_decoder_scale_1.0', 'lm_scale_8.0_decoder_scale_2.0', 'lm_scale_8.0_decoder_scale_4.0', 'lm_scale_8.0_decoder_scale_6.0', 'lm_scale_8.0_decoder_scale_8.0', 'lm_scale_8.0_decoder_scale_10.0', 'lm_scale_10.0_decoder_scale_0.01', 'lm_scale_10.0_decoder_scale_0.03', 'lm_scale_10.0_decoder_scale_0.05', 'lm_scale_10.0_decoder_scale_0.08', 'lm_scale_10.0_decoder_scale_0.09', 'lm_scale_10.0_decoder_scale_0.1', 'lm_scale_10.0_decoder_scale_0.3', 'lm_scale_10.0_decoder_scale_0.5', 'lm_scale_10.0_decoder_scale_0.7', 'lm_scale_10.0_decoder_scale_0.9', 'lm_scale_10.0_decoder_scale_1.0', 'lm_scale_10.0_decoder_scale_2.0', 'lm_scale_10.0_decoder_scale_4.0', 'lm_scale_10.0_decoder_scale_6.0', 'lm_scale_10.0_decoder_scale_8.0', 'lm_scale_10.0_decoder_scale_10.0']\n"
     ]
    }
   ],
   "source": [
    "print(sorted_keys)"
   ]
  },
  {
   "cell_type": "code",
   "execution_count": 75,
   "id": "successful-blame",
   "metadata": {},
   "outputs": [
    {
     "name": "stdout",
     "output_type": "stream",
     "text": [
      "[[3.31, 3.31, 3.31, 3.31, 3.31, 3.31, 3.31, 3.31, 3.31, 3.31, 3.31, 3.31, 3.31, 3.31, 3.31, 3.31], [3.32, 3.32, 3.32, 3.32, 3.32, 3.32, 3.32, 3.32, 3.32, 3.32, 3.32, 3.32, 3.32, 3.32, 3.32, 3.32], [3.32, 3.32, 3.32, 3.32, 3.32, 3.32, 3.32, 3.32, 3.32, 3.32, 3.32, 3.32, 3.32, 3.32, 3.32, 3.32], [3.34, 3.34, 3.34, 3.34, 3.34, 3.34, 3.34, 3.34, 3.34, 3.34, 3.34, 3.34, 3.34, 3.34, 3.34, 3.34], [3.34, 3.34, 3.34, 3.34, 3.34, 3.34, 3.34, 3.34, 3.34, 3.34, 3.34, 3.34, 3.34, 3.34, 3.34, 3.34], [3.39, 3.39, 3.39, 3.39, 3.39, 3.39, 3.39, 3.39, 3.39, 3.39, 3.39, 3.39, 3.39, 3.39, 3.39, 3.39], [3.42, 3.42, 3.42, 3.42, 3.42, 3.42, 3.42, 3.42, 3.42, 3.42, 3.42, 3.42, 3.42, 3.42, 3.42, 3.42], [4.13, 4.13, 4.13, 4.13, 4.13, 4.13, 4.13, 4.13, 4.13, 4.13, 4.13, 4.13, 4.13, 4.13, 4.13, 4.13], [5.45, 5.45, 5.45, 5.45, 5.45, 5.45, 5.45, 5.45, 5.45, 5.45, 5.45, 5.45, 5.45, 5.45, 5.45, 5.45], [5.84, 5.84, 5.84, 5.84, 5.84, 5.84, 5.84, 5.84, 5.84, 5.84, 5.84, 5.84, 5.84, 5.84, 5.84, 5.84], [6.04, 6.04, 6.04, 6.04, 6.04, 6.04, 6.04, 6.04, 6.04, 6.04, 6.04, 6.04, 6.04, 6.04, 6.04, 6.04], [6.12, 6.12, 6.12, 6.12, 6.12, 6.12, 6.12, 6.12, 6.12, 6.12, 6.12, 6.12, 6.12, 6.12, 6.12, 6.12]]\n"
     ]
    }
   ],
   "source": [
    "\n",
    "print(scores_table)\n",
    "        \n",
    "        "
   ]
  },
  {
   "cell_type": "code",
   "execution_count": 68,
   "id": "reflected-physics",
   "metadata": {},
   "outputs": [],
   "source": [
    "title, left_column = extract_tile_and_column(sorted_keys)\n"
   ]
  },
  {
   "cell_type": "code",
   "execution_count": 69,
   "id": "useful-visit",
   "metadata": {},
   "outputs": [
    {
     "name": "stdout",
     "output_type": "stream",
     "text": [
      "16\n"
     ]
    }
   ],
   "source": [
    "print(len(title))"
   ]
  },
  {
   "cell_type": "code",
   "execution_count": 70,
   "id": "improved-palmer",
   "metadata": {},
   "outputs": [
    {
     "name": "stdout",
     "output_type": "stream",
     "text": [
      "['0.01', '0.03', '0.05', '0.08', '0.09', '0.1', '0.3', '0.5', '0.7', '0.9', '1.0', '2.0', '4.0', '6.0', '8.0', '10.0']\n"
     ]
    }
   ],
   "source": [
    "print(title)"
   ]
  },
  {
   "cell_type": "code",
   "execution_count": 72,
   "id": "satellite-corps",
   "metadata": {},
   "outputs": [
    {
     "name": "stdout",
     "output_type": "stream",
     "text": [
      "['0.1', '0.3', '0.5', '0.6', '0.7', '0.9', '1.0', '2.0', '4.0', '6.0', '8.0', '10.0']\n"
     ]
    }
   ],
   "source": [
    "print(left_column)"
   ]
  },
  {
   "cell_type": "code",
   "execution_count": 71,
   "id": "front-place",
   "metadata": {},
   "outputs": [
    {
     "name": "stdout",
     "output_type": "stream",
     "text": [
      "12\n"
     ]
    }
   ],
   "source": [
    "print(len(left_column))"
   ]
  },
  {
   "cell_type": "code",
   "execution_count": 63,
   "id": "surprised-person",
   "metadata": {},
   "outputs": [
    {
     "data": {
      "text/plain": [
       "16"
      ]
     },
     "execution_count": 63,
     "metadata": {},
     "output_type": "execute_result"
    }
   ],
   "source": [
    "len(scores_table[0])"
   ]
  },
  {
   "cell_type": "code",
   "execution_count": 73,
   "id": "nearby-harvey",
   "metadata": {},
   "outputs": [
    {
     "name": "stdout",
     "output_type": "stream",
     "text": [
      "[[3.31, 3.31, 3.31, 3.31, 3.31, 3.31, 3.31, 3.31, 3.31, 3.31, 3.31, 3.31, 3.31, 3.31, 3.31, 3.31], [3.32, 3.32, 3.32, 3.32, 3.32, 3.32, 3.32, 3.32, 3.32, 3.32, 3.32, 3.32, 3.32, 3.32, 3.32, 3.32], [3.32, 3.32, 3.32, 3.32, 3.32, 3.32, 3.32, 3.32, 3.32, 3.32, 3.32, 3.32, 3.32, 3.32, 3.32, 3.32], [3.34, 3.34, 3.34, 3.34, 3.34, 3.34, 3.34, 3.34, 3.34, 3.34, 3.34, 3.34, 3.34, 3.34, 3.34, 3.34], [3.34, 3.34, 3.34, 3.34, 3.34, 3.34, 3.34, 3.34, 3.34, 3.34, 3.34, 3.34, 3.34, 3.34, 3.34, 3.34], [3.39, 3.39, 3.39, 3.39, 3.39, 3.39, 3.39, 3.39, 3.39, 3.39, 3.39, 3.39, 3.39, 3.39, 3.39, 3.39], [3.42, 3.42, 3.42, 3.42, 3.42, 3.42, 3.42, 3.42, 3.42, 3.42, 3.42, 3.42, 3.42, 3.42, 3.42, 3.42], [4.13, 4.13, 4.13, 4.13, 4.13, 4.13, 4.13, 4.13, 4.13, 4.13, 4.13, 4.13, 4.13, 4.13, 4.13, 4.13], [5.45, 5.45, 5.45, 5.45, 5.45, 5.45, 5.45, 5.45, 5.45, 5.45, 5.45, 5.45, 5.45, 5.45, 5.45, 5.45], [5.84, 5.84, 5.84, 5.84, 5.84, 5.84, 5.84, 5.84, 5.84, 5.84, 5.84, 5.84, 5.84, 5.84, 5.84, 5.84], [6.04, 6.04, 6.04, 6.04, 6.04, 6.04, 6.04, 6.04, 6.04, 6.04, 6.04, 6.04, 6.04, 6.04, 6.04, 6.04]]\n"
     ]
    }
   ],
   "source": [
    "print(scores_table)"
   ]
  },
  {
   "cell_type": "code",
   "execution_count": 34,
   "id": "saving-creation",
   "metadata": {},
   "outputs": [
    {
     "name": "stdout",
     "output_type": "stream",
     "text": [
      "{'lm_scale_0.1_decoder_scale_0.1': ('0.1', '0.1', '3.31'), 'lm_scale_0.1_decoder_scale_0.3': ('0.1', '0.3', '3.31'), 'lm_scale_0.1_decoder_scale_0.5': ('0.1', '0.5', '3.31'), 'lm_scale_0.1_decoder_scale_0.7': ('0.1', '0.7', '3.31'), 'lm_scale_0.1_decoder_scale_0.9': ('0.1', '0.9', '3.31'), 'lm_scale_0.1_decoder_scale_1.0': ('0.1', '1.0', '3.31'), 'lm_scale_0.1_decoder_scale_2.0': ('0.1', '2.0', '3.31'), 'lm_scale_0.1_decoder_scale_4.0': ('0.1', '4.0', '3.31'), 'lm_scale_0.1_decoder_scale_6.0': ('0.1', '6.0', '3.31'), 'lm_scale_0.1_decoder_scale_8.0': ('0.1', '8.0', '3.31'), 'lm_scale_0.1_decoder_scale_10.0': ('0.1', '10.0', '3.31'), 'lm_scale_0.1_decoder_scale_0.01': ('0.1', '0.01', '3.31'), 'lm_scale_0.1_decoder_scale_0.03': ('0.1', '0.03', '3.31'), 'lm_scale_0.1_decoder_scale_0.05': ('0.1', '0.05', '3.31'), 'lm_scale_0.1_decoder_scale_0.08': ('0.1', '0.08', '3.31'), 'lm_scale_0.1_decoder_scale_0.09': ('0.1', '0.09', '3.31'), 'lm_scale_0.3_decoder_scale_0.1': ('0.3', '0.1', '3.32'), 'lm_scale_0.3_decoder_scale_0.3': ('0.3', '0.3', '3.32'), 'lm_scale_0.3_decoder_scale_0.5': ('0.3', '0.5', '3.32'), 'lm_scale_0.3_decoder_scale_0.7': ('0.3', '0.7', '3.32'), 'lm_scale_0.3_decoder_scale_0.9': ('0.3', '0.9', '3.32'), 'lm_scale_0.3_decoder_scale_1.0': ('0.3', '1.0', '3.32'), 'lm_scale_0.3_decoder_scale_2.0': ('0.3', '2.0', '3.32'), 'lm_scale_0.3_decoder_scale_4.0': ('0.3', '4.0', '3.32'), 'lm_scale_0.3_decoder_scale_6.0': ('0.3', '6.0', '3.32'), 'lm_scale_0.3_decoder_scale_8.0': ('0.3', '8.0', '3.32'), 'lm_scale_0.3_decoder_scale_10.0': ('0.3', '10.0', '3.32'), 'lm_scale_0.3_decoder_scale_0.01': ('0.3', '0.01', '3.32'), 'lm_scale_0.3_decoder_scale_0.03': ('0.3', '0.03', '3.32'), 'lm_scale_0.3_decoder_scale_0.05': ('0.3', '0.05', '3.32'), 'lm_scale_0.3_decoder_scale_0.08': ('0.3', '0.08', '3.32'), 'lm_scale_0.3_decoder_scale_0.09': ('0.3', '0.09', '3.32'), 'lm_scale_0.5_decoder_scale_0.1': ('0.5', '0.1', '3.32'), 'lm_scale_0.5_decoder_scale_0.3': ('0.5', '0.3', '3.32'), 'lm_scale_0.5_decoder_scale_0.5': ('0.5', '0.5', '3.32'), 'lm_scale_0.5_decoder_scale_0.7': ('0.5', '0.7', '3.32'), 'lm_scale_0.5_decoder_scale_0.9': ('0.5', '0.9', '3.32'), 'lm_scale_0.5_decoder_scale_1.0': ('0.5', '1.0', '3.32'), 'lm_scale_0.5_decoder_scale_2.0': ('0.5', '2.0', '3.32'), 'lm_scale_0.5_decoder_scale_4.0': ('0.5', '4.0', '3.32'), 'lm_scale_0.5_decoder_scale_6.0': ('0.5', '6.0', '3.32'), 'lm_scale_0.5_decoder_scale_8.0': ('0.5', '8.0', '3.32'), 'lm_scale_0.5_decoder_scale_10.0': ('0.5', '10.0', '3.32'), 'lm_scale_0.5_decoder_scale_0.01': ('0.5', '0.01', '3.32'), 'lm_scale_0.5_decoder_scale_0.03': ('0.5', '0.03', '3.32'), 'lm_scale_0.5_decoder_scale_0.05': ('0.5', '0.05', '3.32'), 'lm_scale_0.5_decoder_scale_0.08': ('0.5', '0.08', '3.32'), 'lm_scale_0.5_decoder_scale_0.09': ('0.5', '0.09', '3.32'), 'lm_scale_0.6_decoder_scale_0.1': ('0.6', '0.1', '3.34'), 'lm_scale_0.6_decoder_scale_0.3': ('0.6', '0.3', '3.34'), 'lm_scale_0.6_decoder_scale_0.5': ('0.6', '0.5', '3.34'), 'lm_scale_0.6_decoder_scale_0.7': ('0.6', '0.7', '3.34'), 'lm_scale_0.6_decoder_scale_0.9': ('0.6', '0.9', '3.34'), 'lm_scale_0.6_decoder_scale_1.0': ('0.6', '1.0', '3.34'), 'lm_scale_0.6_decoder_scale_2.0': ('0.6', '2.0', '3.34'), 'lm_scale_0.6_decoder_scale_4.0': ('0.6', '4.0', '3.34'), 'lm_scale_0.6_decoder_scale_6.0': ('0.6', '6.0', '3.34'), 'lm_scale_0.6_decoder_scale_8.0': ('0.6', '8.0', '3.34'), 'lm_scale_0.6_decoder_scale_10.0': ('0.6', '10.0', '3.34'), 'lm_scale_0.6_decoder_scale_0.01': ('0.6', '0.01', '3.34'), 'lm_scale_0.6_decoder_scale_0.03': ('0.6', '0.03', '3.34'), 'lm_scale_0.6_decoder_scale_0.05': ('0.6', '0.05', '3.34'), 'lm_scale_0.6_decoder_scale_0.08': ('0.6', '0.08', '3.34'), 'lm_scale_0.6_decoder_scale_0.09': ('0.6', '0.09', '3.34'), 'lm_scale_0.7_decoder_scale_0.1': ('0.7', '0.1', '3.34'), 'lm_scale_0.7_decoder_scale_0.3': ('0.7', '0.3', '3.34'), 'lm_scale_0.7_decoder_scale_0.5': ('0.7', '0.5', '3.34'), 'lm_scale_0.7_decoder_scale_0.7': ('0.7', '0.7', '3.34'), 'lm_scale_0.7_decoder_scale_0.9': ('0.7', '0.9', '3.34'), 'lm_scale_0.7_decoder_scale_1.0': ('0.7', '1.0', '3.34'), 'lm_scale_0.7_decoder_scale_2.0': ('0.7', '2.0', '3.34'), 'lm_scale_0.7_decoder_scale_4.0': ('0.7', '4.0', '3.34'), 'lm_scale_0.7_decoder_scale_6.0': ('0.7', '6.0', '3.34'), 'lm_scale_0.7_decoder_scale_8.0': ('0.7', '8.0', '3.34'), 'lm_scale_0.7_decoder_scale_10.0': ('0.7', '10.0', '3.34'), 'lm_scale_0.7_decoder_scale_0.01': ('0.7', '0.01', '3.34'), 'lm_scale_0.7_decoder_scale_0.03': ('0.7', '0.03', '3.34'), 'lm_scale_0.7_decoder_scale_0.05': ('0.7', '0.05', '3.34'), 'lm_scale_0.7_decoder_scale_0.08': ('0.7', '0.08', '3.34'), 'lm_scale_0.7_decoder_scale_0.09': ('0.7', '0.09', '3.34'), 'lm_scale_0.9_decoder_scale_0.1': ('0.9', '0.1', '3.39'), 'lm_scale_0.9_decoder_scale_0.3': ('0.9', '0.3', '3.39'), 'lm_scale_0.9_decoder_scale_0.5': ('0.9', '0.5', '3.39'), 'lm_scale_0.9_decoder_scale_0.7': ('0.9', '0.7', '3.39'), 'lm_scale_0.9_decoder_scale_0.9': ('0.9', '0.9', '3.39'), 'lm_scale_0.9_decoder_scale_1.0': ('0.9', '1.0', '3.39'), 'lm_scale_0.9_decoder_scale_2.0': ('0.9', '2.0', '3.39'), 'lm_scale_0.9_decoder_scale_4.0': ('0.9', '4.0', '3.39'), 'lm_scale_0.9_decoder_scale_6.0': ('0.9', '6.0', '3.39'), 'lm_scale_0.9_decoder_scale_8.0': ('0.9', '8.0', '3.39'), 'lm_scale_0.9_decoder_scale_10.0': ('0.9', '10.0', '3.39'), 'lm_scale_0.9_decoder_scale_0.01': ('0.9', '0.01', '3.39'), 'lm_scale_0.9_decoder_scale_0.03': ('0.9', '0.03', '3.39'), 'lm_scale_0.9_decoder_scale_0.05': ('0.9', '0.05', '3.39'), 'lm_scale_0.9_decoder_scale_0.08': ('0.9', '0.08', '3.39'), 'lm_scale_0.9_decoder_scale_0.09': ('0.9', '0.09', '3.39'), 'lm_scale_1.0_decoder_scale_0.1': ('1.0', '0.1', '3.42'), 'lm_scale_1.0_decoder_scale_0.3': ('1.0', '0.3', '3.42'), 'lm_scale_1.0_decoder_scale_0.5': ('1.0', '0.5', '3.42'), 'lm_scale_1.0_decoder_scale_0.7': ('1.0', '0.7', '3.42'), 'lm_scale_1.0_decoder_scale_0.9': ('1.0', '0.9', '3.42'), 'lm_scale_1.0_decoder_scale_1.0': ('1.0', '1.0', '3.42'), 'lm_scale_1.0_decoder_scale_2.0': ('1.0', '2.0', '3.42'), 'lm_scale_1.0_decoder_scale_4.0': ('1.0', '4.0', '3.42'), 'lm_scale_1.0_decoder_scale_6.0': ('1.0', '6.0', '3.42'), 'lm_scale_1.0_decoder_scale_8.0': ('1.0', '8.0', '3.42'), 'lm_scale_1.0_decoder_scale_10.0': ('1.0', '10.0', '3.42'), 'lm_scale_1.0_decoder_scale_0.01': ('1.0', '0.01', '3.42'), 'lm_scale_1.0_decoder_scale_0.03': ('1.0', '0.03', '3.42'), 'lm_scale_1.0_decoder_scale_0.05': ('1.0', '0.05', '3.42'), 'lm_scale_1.0_decoder_scale_0.08': ('1.0', '0.08', '3.42'), 'lm_scale_1.0_decoder_scale_0.09': ('1.0', '0.09', '3.42'), 'lm_scale_2.0_decoder_scale_0.1': ('2.0', '0.1', '4.13'), 'lm_scale_2.0_decoder_scale_0.3': ('2.0', '0.3', '4.13'), 'lm_scale_2.0_decoder_scale_0.5': ('2.0', '0.5', '4.13'), 'lm_scale_2.0_decoder_scale_0.7': ('2.0', '0.7', '4.13'), 'lm_scale_2.0_decoder_scale_0.9': ('2.0', '0.9', '4.13'), 'lm_scale_2.0_decoder_scale_1.0': ('2.0', '1.0', '4.13'), 'lm_scale_2.0_decoder_scale_2.0': ('2.0', '2.0', '4.13'), 'lm_scale_2.0_decoder_scale_4.0': ('2.0', '4.0', '4.13'), 'lm_scale_2.0_decoder_scale_6.0': ('2.0', '6.0', '4.13'), 'lm_scale_2.0_decoder_scale_8.0': ('2.0', '8.0', '4.13'), 'lm_scale_2.0_decoder_scale_10.0': ('2.0', '10.0', '4.13'), 'lm_scale_2.0_decoder_scale_0.01': ('2.0', '0.01', '4.13'), 'lm_scale_2.0_decoder_scale_0.03': ('2.0', '0.03', '4.13'), 'lm_scale_2.0_decoder_scale_0.05': ('2.0', '0.05', '4.13'), 'lm_scale_2.0_decoder_scale_0.08': ('2.0', '0.08', '4.13'), 'lm_scale_2.0_decoder_scale_0.09': ('2.0', '0.09', '4.13'), 'lm_scale_4.0_decoder_scale_0.1': ('4.0', '0.1', '5.45'), 'lm_scale_4.0_decoder_scale_0.3': ('4.0', '0.3', '5.45'), 'lm_scale_4.0_decoder_scale_0.5': ('4.0', '0.5', '5.45'), 'lm_scale_4.0_decoder_scale_0.7': ('4.0', '0.7', '5.45'), 'lm_scale_4.0_decoder_scale_0.9': ('4.0', '0.9', '5.45'), 'lm_scale_4.0_decoder_scale_1.0': ('4.0', '1.0', '5.45'), 'lm_scale_4.0_decoder_scale_2.0': ('4.0', '2.0', '5.45'), 'lm_scale_4.0_decoder_scale_4.0': ('4.0', '4.0', '5.45'), 'lm_scale_4.0_decoder_scale_6.0': ('4.0', '6.0', '5.45'), 'lm_scale_4.0_decoder_scale_8.0': ('4.0', '8.0', '5.45'), 'lm_scale_4.0_decoder_scale_10.0': ('4.0', '10.0', '5.45'), 'lm_scale_4.0_decoder_scale_0.01': ('4.0', '0.01', '5.45'), 'lm_scale_4.0_decoder_scale_0.03': ('4.0', '0.03', '5.45'), 'lm_scale_4.0_decoder_scale_0.05': ('4.0', '0.05', '5.45'), 'lm_scale_4.0_decoder_scale_0.08': ('4.0', '0.08', '5.45'), 'lm_scale_4.0_decoder_scale_0.09': ('4.0', '0.09', '5.45'), 'lm_scale_6.0_decoder_scale_0.1': ('6.0', '0.1', '5.84'), 'lm_scale_6.0_decoder_scale_0.3': ('6.0', '0.3', '5.84'), 'lm_scale_6.0_decoder_scale_0.5': ('6.0', '0.5', '5.84'), 'lm_scale_6.0_decoder_scale_0.7': ('6.0', '0.7', '5.84'), 'lm_scale_6.0_decoder_scale_0.9': ('6.0', '0.9', '5.84'), 'lm_scale_6.0_decoder_scale_1.0': ('6.0', '1.0', '5.84'), 'lm_scale_6.0_decoder_scale_2.0': ('6.0', '2.0', '5.84'), 'lm_scale_6.0_decoder_scale_4.0': ('6.0', '4.0', '5.84'), 'lm_scale_6.0_decoder_scale_6.0': ('6.0', '6.0', '5.84'), 'lm_scale_6.0_decoder_scale_8.0': ('6.0', '8.0', '5.84'), 'lm_scale_6.0_decoder_scale_10.0': ('6.0', '10.0', '5.84'), 'lm_scale_6.0_decoder_scale_0.01': ('6.0', '0.01', '5.84'), 'lm_scale_6.0_decoder_scale_0.03': ('6.0', '0.03', '5.84'), 'lm_scale_6.0_decoder_scale_0.05': ('6.0', '0.05', '5.84'), 'lm_scale_6.0_decoder_scale_0.08': ('6.0', '0.08', '5.84'), 'lm_scale_6.0_decoder_scale_0.09': ('6.0', '0.09', '5.84'), 'lm_scale_8.0_decoder_scale_0.1': ('8.0', '0.1', '6.04'), 'lm_scale_8.0_decoder_scale_0.3': ('8.0', '0.3', '6.04'), 'lm_scale_8.0_decoder_scale_0.5': ('8.0', '0.5', '6.04'), 'lm_scale_8.0_decoder_scale_0.7': ('8.0', '0.7', '6.04'), 'lm_scale_8.0_decoder_scale_0.9': ('8.0', '0.9', '6.04'), 'lm_scale_8.0_decoder_scale_1.0': ('8.0', '1.0', '6.04'), 'lm_scale_8.0_decoder_scale_2.0': ('8.0', '2.0', '6.04'), 'lm_scale_8.0_decoder_scale_4.0': ('8.0', '4.0', '6.04'), 'lm_scale_8.0_decoder_scale_6.0': ('8.0', '6.0', '6.04'), 'lm_scale_8.0_decoder_scale_8.0': ('8.0', '8.0', '6.04'), 'lm_scale_8.0_decoder_scale_10.0': ('8.0', '10.0', '6.04'), 'lm_scale_8.0_decoder_scale_0.01': ('8.0', '0.01', '6.04'), 'lm_scale_8.0_decoder_scale_0.03': ('8.0', '0.03', '6.04'), 'lm_scale_8.0_decoder_scale_0.05': ('8.0', '0.05', '6.04'), 'lm_scale_8.0_decoder_scale_0.08': ('8.0', '0.08', '6.04'), 'lm_scale_8.0_decoder_scale_0.09': ('8.0', '0.09', '6.04'), 'lm_scale_10.0_decoder_scale_0.1': ('10.0', '0.1', '6.12'), 'lm_scale_10.0_decoder_scale_0.3': ('10.0', '0.3', '6.12'), 'lm_scale_10.0_decoder_scale_0.5': ('10.0', '0.5', '6.12'), 'lm_scale_10.0_decoder_scale_0.7': ('10.0', '0.7', '6.12'), 'lm_scale_10.0_decoder_scale_0.9': ('10.0', '0.9', '6.12'), 'lm_scale_10.0_decoder_scale_1.0': ('10.0', '1.0', '6.12'), 'lm_scale_10.0_decoder_scale_2.0': ('10.0', '2.0', '6.12'), 'lm_scale_10.0_decoder_scale_4.0': ('10.0', '4.0', '6.12'), 'lm_scale_10.0_decoder_scale_6.0': ('10.0', '6.0', '6.12'), 'lm_scale_10.0_decoder_scale_8.0': ('10.0', '8.0', '6.12'), 'lm_scale_10.0_decoder_scale_10.0': ('10.0', '10.0', '6.12'), 'lm_scale_10.0_decoder_scale_0.01': ('10.0', '0.01', '6.12'), 'lm_scale_10.0_decoder_scale_0.03': ('10.0', '0.03', '6.12'), 'lm_scale_10.0_decoder_scale_0.05': ('10.0', '0.05', '6.12'), 'lm_scale_10.0_decoder_scale_0.08': ('10.0', '0.08', '6.12'), 'lm_scale_10.0_decoder_scale_0.09': ('10.0', '0.09', '6.12')}\n"
     ]
    }
   ],
   "source": [
    "print(scores)"
   ]
  },
  {
   "cell_type": "code",
   "execution_count": null,
   "id": "exterior-upgrade",
   "metadata": {},
   "outputs": [],
   "source": []
  },
  {
   "cell_type": "code",
   "execution_count": 31,
   "id": "silent-martin",
   "metadata": {},
   "outputs": [],
   "source": []
  },
  {
   "cell_type": "code",
   "execution_count": 30,
   "id": "ready-worthy",
   "metadata": {},
   "outputs": [
    {
     "ename": "IndexError",
     "evalue": "no such group",
     "output_type": "error",
     "traceback": [
      "\u001b[0;31m---------------------------------------------------------------------------\u001b[0m",
      "\u001b[0;31mIndexError\u001b[0m                                Traceback (most recent call last)",
      "\u001b[0;32m<ipython-input-30-b607827a26bc>\u001b[0m in \u001b[0;36m<module>\u001b[0;34m\u001b[0m\n\u001b[0;32m----> 1\u001b[0;31m \u001b[0mmatchobj\u001b[0m\u001b[0;34m.\u001b[0m\u001b[0mgroup\u001b[0m\u001b[0;34m(\u001b[0m\u001b[0;36m3\u001b[0m\u001b[0;34m)\u001b[0m\u001b[0;34m\u001b[0m\u001b[0;34m\u001b[0m\u001b[0m\n\u001b[0m",
      "\u001b[0;31mIndexError\u001b[0m: no such group"
     ]
    }
   ],
   "source": []
  },
  {
   "cell_type": "code",
   "execution_count": null,
   "id": "elder-fiction",
   "metadata": {},
   "outputs": [],
   "source": []
  },
  {
   "cell_type": "code",
   "execution_count": null,
   "id": "christian-steps",
   "metadata": {},
   "outputs": [],
   "source": []
  },
  {
   "cell_type": "code",
   "execution_count": 22,
   "id": "owned-detroit",
   "metadata": {},
   "outputs": [
    {
     "data": {
      "text/plain": [
       "dict_keys(['lm_scale_0.1_decoder_scale_0.1', 'lm_scale_0.1_decoder_scale_0.3', 'lm_scale_0.1_decoder_scale_0.5', 'lm_scale_0.1_decoder_scale_0.7', 'lm_scale_0.1_decoder_scale_0.9', 'lm_scale_0.1_decoder_scale_1.0', 'lm_scale_0.1_decoder_scale_2.0', 'lm_scale_0.1_decoder_scale_4.0', 'lm_scale_0.1_decoder_scale_6.0', 'lm_scale_0.1_decoder_scale_8.0', 'lm_scale_0.1_decoder_scale_10.0', 'lm_scale_0.1_decoder_scale_0.01', 'lm_scale_0.1_decoder_scale_0.03', 'lm_scale_0.1_decoder_scale_0.05', 'lm_scale_0.1_decoder_scale_0.08', 'lm_scale_0.1_decoder_scale_0.09', 'lm_scale_0.3_decoder_scale_0.1', 'lm_scale_0.3_decoder_scale_0.3', 'lm_scale_0.3_decoder_scale_0.5', 'lm_scale_0.3_decoder_scale_0.7', 'lm_scale_0.3_decoder_scale_0.9', 'lm_scale_0.3_decoder_scale_1.0', 'lm_scale_0.3_decoder_scale_2.0', 'lm_scale_0.3_decoder_scale_4.0', 'lm_scale_0.3_decoder_scale_6.0', 'lm_scale_0.3_decoder_scale_8.0', 'lm_scale_0.3_decoder_scale_10.0', 'lm_scale_0.3_decoder_scale_0.01', 'lm_scale_0.3_decoder_scale_0.03', 'lm_scale_0.3_decoder_scale_0.05', 'lm_scale_0.3_decoder_scale_0.08', 'lm_scale_0.3_decoder_scale_0.09', 'lm_scale_0.5_decoder_scale_0.1', 'lm_scale_0.5_decoder_scale_0.3', 'lm_scale_0.5_decoder_scale_0.5', 'lm_scale_0.5_decoder_scale_0.7', 'lm_scale_0.5_decoder_scale_0.9', 'lm_scale_0.5_decoder_scale_1.0', 'lm_scale_0.5_decoder_scale_2.0', 'lm_scale_0.5_decoder_scale_4.0', 'lm_scale_0.5_decoder_scale_6.0', 'lm_scale_0.5_decoder_scale_8.0', 'lm_scale_0.5_decoder_scale_10.0', 'lm_scale_0.5_decoder_scale_0.01', 'lm_scale_0.5_decoder_scale_0.03', 'lm_scale_0.5_decoder_scale_0.05', 'lm_scale_0.5_decoder_scale_0.08', 'lm_scale_0.5_decoder_scale_0.09', 'lm_scale_0.6_decoder_scale_0.1', 'lm_scale_0.6_decoder_scale_0.3', 'lm_scale_0.6_decoder_scale_0.5', 'lm_scale_0.6_decoder_scale_0.7', 'lm_scale_0.6_decoder_scale_0.9', 'lm_scale_0.6_decoder_scale_1.0', 'lm_scale_0.6_decoder_scale_2.0', 'lm_scale_0.6_decoder_scale_4.0', 'lm_scale_0.6_decoder_scale_6.0', 'lm_scale_0.6_decoder_scale_8.0', 'lm_scale_0.6_decoder_scale_10.0', 'lm_scale_0.6_decoder_scale_0.01', 'lm_scale_0.6_decoder_scale_0.03', 'lm_scale_0.6_decoder_scale_0.05', 'lm_scale_0.6_decoder_scale_0.08', 'lm_scale_0.6_decoder_scale_0.09', 'lm_scale_0.7_decoder_scale_0.1', 'lm_scale_0.7_decoder_scale_0.3', 'lm_scale_0.7_decoder_scale_0.5', 'lm_scale_0.7_decoder_scale_0.7', 'lm_scale_0.7_decoder_scale_0.9', 'lm_scale_0.7_decoder_scale_1.0', 'lm_scale_0.7_decoder_scale_2.0', 'lm_scale_0.7_decoder_scale_4.0', 'lm_scale_0.7_decoder_scale_6.0', 'lm_scale_0.7_decoder_scale_8.0', 'lm_scale_0.7_decoder_scale_10.0', 'lm_scale_0.7_decoder_scale_0.01', 'lm_scale_0.7_decoder_scale_0.03', 'lm_scale_0.7_decoder_scale_0.05', 'lm_scale_0.7_decoder_scale_0.08', 'lm_scale_0.7_decoder_scale_0.09', 'lm_scale_0.9_decoder_scale_0.1', 'lm_scale_0.9_decoder_scale_0.3', 'lm_scale_0.9_decoder_scale_0.5', 'lm_scale_0.9_decoder_scale_0.7', 'lm_scale_0.9_decoder_scale_0.9', 'lm_scale_0.9_decoder_scale_1.0', 'lm_scale_0.9_decoder_scale_2.0', 'lm_scale_0.9_decoder_scale_4.0', 'lm_scale_0.9_decoder_scale_6.0', 'lm_scale_0.9_decoder_scale_8.0', 'lm_scale_0.9_decoder_scale_10.0', 'lm_scale_0.9_decoder_scale_0.01', 'lm_scale_0.9_decoder_scale_0.03', 'lm_scale_0.9_decoder_scale_0.05', 'lm_scale_0.9_decoder_scale_0.08', 'lm_scale_0.9_decoder_scale_0.09', 'lm_scale_1.0_decoder_scale_0.1', 'lm_scale_1.0_decoder_scale_0.3', 'lm_scale_1.0_decoder_scale_0.5', 'lm_scale_1.0_decoder_scale_0.7', 'lm_scale_1.0_decoder_scale_0.9', 'lm_scale_1.0_decoder_scale_1.0', 'lm_scale_1.0_decoder_scale_2.0', 'lm_scale_1.0_decoder_scale_4.0', 'lm_scale_1.0_decoder_scale_6.0', 'lm_scale_1.0_decoder_scale_8.0', 'lm_scale_1.0_decoder_scale_10.0', 'lm_scale_1.0_decoder_scale_0.01', 'lm_scale_1.0_decoder_scale_0.03', 'lm_scale_1.0_decoder_scale_0.05', 'lm_scale_1.0_decoder_scale_0.08', 'lm_scale_1.0_decoder_scale_0.09', 'lm_scale_2.0_decoder_scale_0.1', 'lm_scale_2.0_decoder_scale_0.3', 'lm_scale_2.0_decoder_scale_0.5', 'lm_scale_2.0_decoder_scale_0.7', 'lm_scale_2.0_decoder_scale_0.9', 'lm_scale_2.0_decoder_scale_1.0', 'lm_scale_2.0_decoder_scale_2.0', 'lm_scale_2.0_decoder_scale_4.0', 'lm_scale_2.0_decoder_scale_6.0', 'lm_scale_2.0_decoder_scale_8.0', 'lm_scale_2.0_decoder_scale_10.0', 'lm_scale_2.0_decoder_scale_0.01', 'lm_scale_2.0_decoder_scale_0.03', 'lm_scale_2.0_decoder_scale_0.05', 'lm_scale_2.0_decoder_scale_0.08', 'lm_scale_2.0_decoder_scale_0.09', 'lm_scale_4.0_decoder_scale_0.1', 'lm_scale_4.0_decoder_scale_0.3', 'lm_scale_4.0_decoder_scale_0.5', 'lm_scale_4.0_decoder_scale_0.7', 'lm_scale_4.0_decoder_scale_0.9', 'lm_scale_4.0_decoder_scale_1.0', 'lm_scale_4.0_decoder_scale_2.0', 'lm_scale_4.0_decoder_scale_4.0', 'lm_scale_4.0_decoder_scale_6.0', 'lm_scale_4.0_decoder_scale_8.0', 'lm_scale_4.0_decoder_scale_10.0', 'lm_scale_4.0_decoder_scale_0.01', 'lm_scale_4.0_decoder_scale_0.03', 'lm_scale_4.0_decoder_scale_0.05', 'lm_scale_4.0_decoder_scale_0.08', 'lm_scale_4.0_decoder_scale_0.09', 'lm_scale_6.0_decoder_scale_0.1', 'lm_scale_6.0_decoder_scale_0.3', 'lm_scale_6.0_decoder_scale_0.5', 'lm_scale_6.0_decoder_scale_0.7', 'lm_scale_6.0_decoder_scale_0.9', 'lm_scale_6.0_decoder_scale_1.0', 'lm_scale_6.0_decoder_scale_2.0', 'lm_scale_6.0_decoder_scale_4.0', 'lm_scale_6.0_decoder_scale_6.0', 'lm_scale_6.0_decoder_scale_8.0', 'lm_scale_6.0_decoder_scale_10.0', 'lm_scale_6.0_decoder_scale_0.01', 'lm_scale_6.0_decoder_scale_0.03', 'lm_scale_6.0_decoder_scale_0.05', 'lm_scale_6.0_decoder_scale_0.08', 'lm_scale_6.0_decoder_scale_0.09', 'lm_scale_8.0_decoder_scale_0.1', 'lm_scale_8.0_decoder_scale_0.3', 'lm_scale_8.0_decoder_scale_0.5', 'lm_scale_8.0_decoder_scale_0.7', 'lm_scale_8.0_decoder_scale_0.9', 'lm_scale_8.0_decoder_scale_1.0', 'lm_scale_8.0_decoder_scale_2.0', 'lm_scale_8.0_decoder_scale_4.0', 'lm_scale_8.0_decoder_scale_6.0', 'lm_scale_8.0_decoder_scale_8.0', 'lm_scale_8.0_decoder_scale_10.0', 'lm_scale_8.0_decoder_scale_0.01', 'lm_scale_8.0_decoder_scale_0.03', 'lm_scale_8.0_decoder_scale_0.05', 'lm_scale_8.0_decoder_scale_0.08', 'lm_scale_8.0_decoder_scale_0.09', 'lm_scale_10.0_decoder_scale_0.1', 'lm_scale_10.0_decoder_scale_0.3', 'lm_scale_10.0_decoder_scale_0.5', 'lm_scale_10.0_decoder_scale_0.7', 'lm_scale_10.0_decoder_scale_0.9', 'lm_scale_10.0_decoder_scale_1.0', 'lm_scale_10.0_decoder_scale_2.0', 'lm_scale_10.0_decoder_scale_4.0', 'lm_scale_10.0_decoder_scale_6.0', 'lm_scale_10.0_decoder_scale_8.0', 'lm_scale_10.0_decoder_scale_10.0', 'lm_scale_10.0_decoder_scale_0.01', 'lm_scale_10.0_decoder_scale_0.03', 'lm_scale_10.0_decoder_scale_0.05', 'lm_scale_10.0_decoder_scale_0.08', 'lm_scale_10.0_decoder_scale_0.09'])"
      ]
     },
     "execution_count": 22,
     "metadata": {},
     "output_type": "execute_result"
    }
   ],
   "source": [
    "scores.keys()"
   ]
  },
  {
   "cell_type": "code",
   "execution_count": null,
   "id": "nasty-overall",
   "metadata": {},
   "outputs": [],
   "source": []
  }
 ],
 "metadata": {
  "kernelspec": {
   "display_name": "Python 3",
   "language": "python",
   "name": "python3"
  },
  "language_info": {
   "codemirror_mode": {
    "name": "ipython",
    "version": 3
   },
   "file_extension": ".py",
   "mimetype": "text/x-python",
   "name": "python",
   "nbconvert_exporter": "python",
   "pygments_lexer": "ipython3",
   "version": "3.8.0"
  }
 },
 "nbformat": 4,
 "nbformat_minor": 5
}
